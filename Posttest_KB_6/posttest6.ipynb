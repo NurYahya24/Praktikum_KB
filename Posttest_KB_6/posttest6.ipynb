{
 "cells": [
  {
   "cell_type": "markdown",
   "id": "f38994ae-2099-4ca9-b28f-79a508bcce54",
   "metadata": {},
   "source": [
    "# POSTTEST 6 KB\n",
    "# DEEP NEURAL NETWORK"
   ]
  },
  {
   "cell_type": "code",
   "execution_count": 1,
   "id": "d7d829f7-ce81-4140-8695-cceafefcdf22",
   "metadata": {},
   "outputs": [],
   "source": [
    "import tensorflow as tf\n",
    "from tensorflow.keras import Sequential, layers\n",
    "import pandas as pd\n",
    "import seaborn as sns\n",
    "import matplotlib.pyplot as plt\n",
    "from sklearn.model_selection import train_test_split\n",
    "import numpy as np\n",
    "from sklearn.metrics import accuracy_score"
   ]
  },
  {
   "cell_type": "code",
   "execution_count": 2,
   "id": "b944bd6f-56c2-4dab-af7a-4f88862a1215",
   "metadata": {},
   "outputs": [],
   "source": [
    "df = pd.read_csv('all_perth_house.csv')"
   ]
  },
  {
   "cell_type": "markdown",
   "id": "389b09eb-ae32-480b-825d-bdaf1734ba4e",
   "metadata": {},
   "source": [
    "## SPLIT DATA TRAIN DAN TEST"
   ]
  },
  {
   "cell_type": "code",
   "execution_count": 3,
   "id": "1ea32deb-a668-491a-8d8a-87d443dd237a",
   "metadata": {},
   "outputs": [],
   "source": [
    "X = df[['LAND_AREA', 'FLOOR_AREA', 'BEDROOMS', 'BATHROOMS']]\n",
    "Y = df['PRICE']\n",
    "X_train, X_test, Y_train, Y_test = train_test_split(X, Y, test_size=0.3, random_state=42)"
   ]
  },
  {
   "cell_type": "markdown",
   "id": "7de88205-8b2a-4eb7-b696-6d04bcd41054",
   "metadata": {},
   "source": [
    "## MEMBANGUN MODEL SEQUENTIAL"
   ]
  },
  {
   "cell_type": "code",
   "execution_count": 4,
   "id": "9d08e79f-8cce-4ea0-b96e-7450f120f5d4",
   "metadata": {},
   "outputs": [
    {
     "data": {
      "text/plain": [
       "(33656, 4)"
      ]
     },
     "execution_count": 4,
     "metadata": {},
     "output_type": "execute_result"
    }
   ],
   "source": [
    "X.shape"
   ]
  },
  {
   "cell_type": "code",
   "execution_count": 5,
   "id": "dfd57fd2-6ff2-4a21-887a-0b20b6bb401b",
   "metadata": {},
   "outputs": [
    {
     "name": "stdout",
     "output_type": "stream",
     "text": [
      "Model: \"sequential\"\n",
      "_________________________________________________________________\n",
      " Layer (type)                Output Shape              Param #   \n",
      "=================================================================\n",
      " dense (Dense)               (None, 64)                320       \n",
      "                                                                 \n",
      " dense_1 (Dense)             (None, 128)               8320      \n",
      "                                                                 \n",
      " dense_2 (Dense)             (None, 1)                 129       \n",
      "                                                                 \n",
      "=================================================================\n",
      "Total params: 8769 (34.25 KB)\n",
      "Trainable params: 8769 (34.25 KB)\n",
      "Non-trainable params: 0 (0.00 Byte)\n",
      "_________________________________________________________________\n"
     ]
    }
   ],
   "source": [
    "model = Sequential([\n",
    "    layers.Dense(64, activation= 'relu', input_shape=[4]),\n",
    "    layers.Dense(128, activation= 'relu'),\n",
    "    layers.Dense(1, activation= 'linear')\n",
    "])\n",
    "\n",
    "model.summary()"
   ]
  },
  {
   "cell_type": "code",
   "execution_count": 6,
   "id": "2a5517b8-7cfc-4dcd-9229-50b523817a89",
   "metadata": {},
   "outputs": [],
   "source": [
    "model.compile(optimizer='adam', loss='huber', metrics=['accuracy'])"
   ]
  },
  {
   "cell_type": "code",
   "execution_count": 7,
   "id": "6b935eaa-2df1-4085-95db-c9b72923cdbf",
   "metadata": {
    "scrolled": true
   },
   "outputs": [
    {
     "name": "stdout",
     "output_type": "stream",
     "text": [
      "Epoch 1/40\n",
      "589/589 [==============================] - 2s 3ms/step - loss: 603224.8750 - accuracy: 0.0000e+00 - val_loss: 565680.1875 - val_accuracy: 0.0000e+00\n",
      "Epoch 2/40\n",
      "589/589 [==============================] - 1s 2ms/step - loss: 529709.1875 - accuracy: 0.0000e+00 - val_loss: 413628.5938 - val_accuracy: 0.0000e+00\n",
      "Epoch 3/40\n",
      "589/589 [==============================] - 1s 2ms/step - loss: 249355.3281 - accuracy: 0.0000e+00 - val_loss: 200144.7188 - val_accuracy: 0.0000e+00\n",
      "Epoch 4/40\n",
      "589/589 [==============================] - 1s 2ms/step - loss: 201414.1562 - accuracy: 0.0000e+00 - val_loss: 199347.3281 - val_accuracy: 0.0000e+00\n",
      "Epoch 5/40\n",
      "589/589 [==============================] - 1s 2ms/step - loss: 201360.7812 - accuracy: 0.0000e+00 - val_loss: 199463.8281 - val_accuracy: 0.0000e+00\n",
      "Epoch 6/40\n",
      "589/589 [==============================] - 1s 2ms/step - loss: 201144.0469 - accuracy: 0.0000e+00 - val_loss: 199131.6562 - val_accuracy: 0.0000e+00\n",
      "Epoch 7/40\n",
      "589/589 [==============================] - 1s 2ms/step - loss: 201684.5469 - accuracy: 0.0000e+00 - val_loss: 198940.7656 - val_accuracy: 0.0000e+00\n",
      "Epoch 8/40\n",
      "589/589 [==============================] - 1s 2ms/step - loss: 200993.2969 - accuracy: 0.0000e+00 - val_loss: 199600.7500 - val_accuracy: 0.0000e+00\n",
      "Epoch 9/40\n",
      "589/589 [==============================] - 1s 2ms/step - loss: 200948.3125 - accuracy: 0.0000e+00 - val_loss: 198935.0312 - val_accuracy: 0.0000e+00\n",
      "Epoch 10/40\n",
      "589/589 [==============================] - 1s 2ms/step - loss: 200592.0938 - accuracy: 0.0000e+00 - val_loss: 198953.0781 - val_accuracy: 0.0000e+00\n",
      "Epoch 11/40\n",
      "589/589 [==============================] - 1s 2ms/step - loss: 201174.7500 - accuracy: 0.0000e+00 - val_loss: 198910.8438 - val_accuracy: 0.0000e+00\n",
      "Epoch 12/40\n",
      "589/589 [==============================] - 1s 2ms/step - loss: 201019.7344 - accuracy: 0.0000e+00 - val_loss: 199273.3906 - val_accuracy: 0.0000e+00\n",
      "Epoch 13/40\n",
      "589/589 [==============================] - 1s 2ms/step - loss: 200884.9062 - accuracy: 0.0000e+00 - val_loss: 200221.2188 - val_accuracy: 0.0000e+00\n",
      "Epoch 14/40\n",
      "589/589 [==============================] - 1s 2ms/step - loss: 200687.5000 - accuracy: 0.0000e+00 - val_loss: 198815.1250 - val_accuracy: 0.0000e+00\n",
      "Epoch 15/40\n",
      "589/589 [==============================] - 1s 2ms/step - loss: 200687.8438 - accuracy: 0.0000e+00 - val_loss: 199089.2812 - val_accuracy: 0.0000e+00\n",
      "Epoch 16/40\n",
      "589/589 [==============================] - 1s 2ms/step - loss: 200893.7031 - accuracy: 0.0000e+00 - val_loss: 199298.2812 - val_accuracy: 0.0000e+00\n",
      "Epoch 17/40\n",
      "589/589 [==============================] - 1s 2ms/step - loss: 200790.0781 - accuracy: 0.0000e+00 - val_loss: 199258.7344 - val_accuracy: 0.0000e+00\n",
      "Epoch 18/40\n",
      "589/589 [==============================] - 1s 2ms/step - loss: 200788.1719 - accuracy: 0.0000e+00 - val_loss: 199214.2969 - val_accuracy: 0.0000e+00\n",
      "Epoch 19/40\n",
      "589/589 [==============================] - 1s 2ms/step - loss: 200722.5469 - accuracy: 0.0000e+00 - val_loss: 201085.0000 - val_accuracy: 0.0000e+00\n",
      "Epoch 20/40\n",
      "589/589 [==============================] - 1s 2ms/step - loss: 200509.9375 - accuracy: 0.0000e+00 - val_loss: 199794.0312 - val_accuracy: 0.0000e+00\n",
      "Epoch 21/40\n",
      "589/589 [==============================] - 1s 2ms/step - loss: 200204.3125 - accuracy: 0.0000e+00 - val_loss: 198424.1406 - val_accuracy: 0.0000e+00\n",
      "Epoch 22/40\n",
      "589/589 [==============================] - 1s 2ms/step - loss: 200620.8125 - accuracy: 0.0000e+00 - val_loss: 198473.7188 - val_accuracy: 0.0000e+00\n",
      "Epoch 23/40\n",
      "589/589 [==============================] - 1s 2ms/step - loss: 200749.4219 - accuracy: 0.0000e+00 - val_loss: 198471.2812 - val_accuracy: 0.0000e+00\n",
      "Epoch 24/40\n",
      "589/589 [==============================] - 1s 2ms/step - loss: 200447.1094 - accuracy: 0.0000e+00 - val_loss: 198577.9219 - val_accuracy: 0.0000e+00\n",
      "Epoch 25/40\n",
      "589/589 [==============================] - 1s 2ms/step - loss: 200325.4531 - accuracy: 0.0000e+00 - val_loss: 198581.3906 - val_accuracy: 0.0000e+00\n",
      "Epoch 26/40\n",
      "589/589 [==============================] - 1s 2ms/step - loss: 200362.0312 - accuracy: 0.0000e+00 - val_loss: 198404.8281 - val_accuracy: 0.0000e+00\n",
      "Epoch 27/40\n",
      "589/589 [==============================] - 1s 2ms/step - loss: 200412.4531 - accuracy: 0.0000e+00 - val_loss: 198549.0938 - val_accuracy: 0.0000e+00\n",
      "Epoch 28/40\n",
      "589/589 [==============================] - 1s 3ms/step - loss: 200407.8125 - accuracy: 0.0000e+00 - val_loss: 198489.4375 - val_accuracy: 0.0000e+00\n",
      "Epoch 29/40\n",
      "589/589 [==============================] - 1s 2ms/step - loss: 200531.2969 - accuracy: 0.0000e+00 - val_loss: 198326.0000 - val_accuracy: 0.0000e+00\n",
      "Epoch 30/40\n",
      "589/589 [==============================] - 1s 2ms/step - loss: 200132.0781 - accuracy: 0.0000e+00 - val_loss: 198407.9375 - val_accuracy: 0.0000e+00\n",
      "Epoch 31/40\n",
      "589/589 [==============================] - 1s 2ms/step - loss: 200088.2812 - accuracy: 0.0000e+00 - val_loss: 199036.9219 - val_accuracy: 0.0000e+00\n",
      "Epoch 32/40\n",
      "589/589 [==============================] - 1s 2ms/step - loss: 200164.9531 - accuracy: 0.0000e+00 - val_loss: 199071.4375 - val_accuracy: 0.0000e+00\n",
      "Epoch 33/40\n",
      "589/589 [==============================] - 1s 2ms/step - loss: 200663.2969 - accuracy: 0.0000e+00 - val_loss: 199152.8906 - val_accuracy: 0.0000e+00\n",
      "Epoch 34/40\n",
      "589/589 [==============================] - 1s 2ms/step - loss: 200240.6094 - accuracy: 0.0000e+00 - val_loss: 202455.7812 - val_accuracy: 0.0000e+00\n",
      "Epoch 35/40\n",
      "589/589 [==============================] - 1s 2ms/step - loss: 199753.7969 - accuracy: 0.0000e+00 - val_loss: 198411.3750 - val_accuracy: 0.0000e+00\n",
      "Epoch 36/40\n",
      "589/589 [==============================] - 1s 2ms/step - loss: 200307.0000 - accuracy: 0.0000e+00 - val_loss: 198448.8125 - val_accuracy: 0.0000e+00\n",
      "Epoch 37/40\n",
      "589/589 [==============================] - 1s 2ms/step - loss: 200057.1094 - accuracy: 0.0000e+00 - val_loss: 198480.8750 - val_accuracy: 0.0000e+00\n",
      "Epoch 38/40\n",
      "589/589 [==============================] - 1s 2ms/step - loss: 200302.5156 - accuracy: 0.0000e+00 - val_loss: 198173.2500 - val_accuracy: 0.0000e+00\n",
      "Epoch 39/40\n",
      "589/589 [==============================] - 1s 2ms/step - loss: 200120.9844 - accuracy: 0.0000e+00 - val_loss: 198076.2969 - val_accuracy: 0.0000e+00\n",
      "Epoch 40/40\n",
      "589/589 [==============================] - 1s 2ms/step - loss: 200225.1719 - accuracy: 0.0000e+00 - val_loss: 198207.7656 - val_accuracy: 0.0000e+00\n"
     ]
    }
   ],
   "source": [
    "history = model.fit(X_train, Y_train, epochs = 40, validation_split = 0.2, verbose=1)"
   ]
  },
  {
   "cell_type": "code",
   "execution_count": 8,
   "id": "c3e45504-9a78-45d5-8135-c771dc8dbda7",
   "metadata": {},
   "outputs": [
    {
     "name": "stdout",
     "output_type": "stream",
     "text": [
      "316/316 [==============================] - 1s 2ms/step - loss: 199019.1406 - accuracy: 0.0000e+00\n"
     ]
    },
    {
     "data": {
      "text/plain": [
       "[199019.140625, 0.0]"
      ]
     },
     "execution_count": 8,
     "metadata": {},
     "output_type": "execute_result"
    }
   ],
   "source": [
    "model.evaluate(X_test, Y_test)"
   ]
  },
  {
   "cell_type": "markdown",
   "id": "2703228a-d3b2-45a1-bb3d-c6cd24c75d8e",
   "metadata": {},
   "source": [
    "## UNDERFITTING\n",
    "\n",
    "saya mencoba untuk normalisasi data target kemudian mencari nilai r2 nya"
   ]
  },
  {
   "cell_type": "code",
   "execution_count": 9,
   "id": "2f70f550-ecb9-4763-9544-17b70895aa45",
   "metadata": {},
   "outputs": [
    {
     "data": {
      "text/plain": [
       "array([[0.21515278],\n",
       "       [0.13143575],\n",
       "       [0.0987861 ],\n",
       "       ...,\n",
       "       [0.15738803],\n",
       "       [0.10213478],\n",
       "       [0.10213478]])"
      ]
     },
     "execution_count": 9,
     "metadata": {},
     "output_type": "execute_result"
    }
   ],
   "source": [
    "from sklearn.preprocessing import MinMaxScaler\n",
    "Y = df[['PRICE']]\n",
    "mm = MinMaxScaler()\n",
    "mm.fit(Y)\n",
    "Y_Scaled = mm.transform(Y)\n",
    "Y_Scaled"
   ]
  },
  {
   "cell_type": "code",
   "execution_count": 10,
   "id": "5db469d7-4884-4245-a6c6-370c43b4fd5f",
   "metadata": {},
   "outputs": [],
   "source": [
    "X_train, X_test, Y_train, Y_test = train_test_split(X, Y_Scaled, test_size=0.3, random_state=42)"
   ]
  },
  {
   "cell_type": "code",
   "execution_count": 11,
   "id": "1c996309-ea4c-4dde-b502-d0154d2c257e",
   "metadata": {},
   "outputs": [
    {
     "name": "stdout",
     "output_type": "stream",
     "text": [
      "Model: \"sequential_1\"\n",
      "_________________________________________________________________\n",
      " Layer (type)                Output Shape              Param #   \n",
      "=================================================================\n",
      " dense_3 (Dense)             (None, 64)                320       \n",
      "                                                                 \n",
      " dense_4 (Dense)             (None, 128)               8320      \n",
      "                                                                 \n",
      " dense_5 (Dense)             (None, 1)                 129       \n",
      "                                                                 \n",
      "=================================================================\n",
      "Total params: 8769 (34.25 KB)\n",
      "Trainable params: 8769 (34.25 KB)\n",
      "Non-trainable params: 0 (0.00 Byte)\n",
      "_________________________________________________________________\n"
     ]
    }
   ],
   "source": [
    "model = Sequential([\n",
    "    layers.Dense(64, activation= 'relu', input_shape=[4]),\n",
    "    layers.Dense(128, activation= 'relu'),\n",
    "    layers.Dense(1, activation= 'linear')\n",
    "])\n",
    "\n",
    "model.summary()"
   ]
  },
  {
   "cell_type": "code",
   "execution_count": 12,
   "id": "eeee4b86-f952-4219-a392-2ef0b60aa27f",
   "metadata": {},
   "outputs": [],
   "source": [
    "from sklearn.metrics import r2_score\n",
    "rmse_metrics  = tf.keras.metrics.RootMeanSquaredError()\n",
    "model.compile(optimizer='adam', loss='mse', metrics=['mae'])"
   ]
  },
  {
   "cell_type": "code",
   "execution_count": 13,
   "id": "1fc38295-0745-497a-bd6b-44551c28367e",
   "metadata": {
    "scrolled": true
   },
   "outputs": [
    {
     "name": "stdout",
     "output_type": "stream",
     "text": [
      "Epoch 1/40\n",
      "589/589 [==============================] - 2s 3ms/step - loss: 236078.7500 - mae: 61.3944 - val_loss: 458.2726 - val_mae: 8.5871\n",
      "Epoch 2/40\n",
      "589/589 [==============================] - 1s 2ms/step - loss: 104063.9609 - mae: 36.5900 - val_loss: 2096.0229 - val_mae: 7.9699\n",
      "Epoch 3/40\n",
      "589/589 [==============================] - 1s 2ms/step - loss: 17774.3379 - mae: 11.6025 - val_loss: 4494.5278 - val_mae: 15.8410\n",
      "Epoch 4/40\n",
      "589/589 [==============================] - 1s 2ms/step - loss: 22562.5938 - mae: 15.8227 - val_loss: 1422.0106 - val_mae: 6.6073\n",
      "Epoch 5/40\n",
      "589/589 [==============================] - 1s 2ms/step - loss: 306714.1250 - mae: 30.3910 - val_loss: 38.2091 - val_mae: 2.6603\n",
      "Epoch 6/40\n",
      "589/589 [==============================] - 1s 2ms/step - loss: 351.3894 - mae: 3.6139 - val_loss: 44.7491 - val_mae: 2.0441\n",
      "Epoch 7/40\n",
      "589/589 [==============================] - 1s 2ms/step - loss: 86401.2344 - mae: 23.8185 - val_loss: 72.3800 - val_mae: 1.9238\n",
      "Epoch 8/40\n",
      "589/589 [==============================] - 1s 2ms/step - loss: 22433.8496 - mae: 16.1685 - val_loss: 4603.0732 - val_mae: 18.5947\n",
      "Epoch 9/40\n",
      "589/589 [==============================] - 1s 2ms/step - loss: 2990.6340 - mae: 6.7641 - val_loss: 492.9127 - val_mae: 5.8198\n",
      "Epoch 10/40\n",
      "589/589 [==============================] - 1s 2ms/step - loss: 7295.9634 - mae: 6.2914 - val_loss: 8.5631 - val_mae: 1.0997\n",
      "Epoch 11/40\n",
      "589/589 [==============================] - 1s 2ms/step - loss: 450.2350 - mae: 2.3744 - val_loss: 6.5590 - val_mae: 0.9980\n",
      "Epoch 12/40\n",
      "589/589 [==============================] - 1s 2ms/step - loss: 847.3190 - mae: 3.0499 - val_loss: 321.5555 - val_mae: 4.4529\n",
      "Epoch 13/40\n",
      "589/589 [==============================] - 1s 2ms/step - loss: 10726.0371 - mae: 11.2125 - val_loss: 9.5873 - val_mae: 2.5739\n",
      "Epoch 14/40\n",
      "589/589 [==============================] - 1s 2ms/step - loss: 40322.0703 - mae: 19.8756 - val_loss: 3.4910 - val_mae: 0.7446\n",
      "Epoch 15/40\n",
      "589/589 [==============================] - 1s 2ms/step - loss: 2.2901 - mae: 0.5029 - val_loss: 0.3292 - val_mae: 0.3068\n",
      "Epoch 16/40\n",
      "589/589 [==============================] - 1s 3ms/step - loss: 87.6319 - mae: 0.9453 - val_loss: 9.5088 - val_mae: 0.7330\n",
      "Epoch 17/40\n",
      "589/589 [==============================] - 1s 2ms/step - loss: 8955.5078 - mae: 6.0834 - val_loss: 8.6203 - val_mae: 0.8760\n",
      "Epoch 18/40\n",
      "589/589 [==============================] - 1s 2ms/step - loss: 9266.1602 - mae: 11.3515 - val_loss: 7.4693 - val_mae: 1.0971\n",
      "Epoch 19/40\n",
      "589/589 [==============================] - 1s 2ms/step - loss: 18239.6719 - mae: 7.8251 - val_loss: 3.7311 - val_mae: 0.5442\n",
      "Epoch 20/40\n",
      "589/589 [==============================] - 1s 2ms/step - loss: 53.8171 - mae: 0.8859 - val_loss: 0.8634 - val_mae: 0.2824\n",
      "Epoch 21/40\n",
      "589/589 [==============================] - 1s 2ms/step - loss: 7.8317 - mae: 0.4510 - val_loss: 0.3715 - val_mae: 0.2497\n",
      "Epoch 22/40\n",
      "589/589 [==============================] - 1s 2ms/step - loss: 6.6466 - mae: 0.4589 - val_loss: 0.3730 - val_mae: 0.2932\n",
      "Epoch 23/40\n",
      "589/589 [==============================] - 1s 2ms/step - loss: 332.9775 - mae: 1.8450 - val_loss: 1.4863 - val_mae: 0.4214\n",
      "Epoch 24/40\n",
      "589/589 [==============================] - 1s 2ms/step - loss: 34.7075 - mae: 0.8430 - val_loss: 3.4388 - val_mae: 0.4244\n",
      "Epoch 25/40\n",
      "589/589 [==============================] - 1s 2ms/step - loss: 33.2863 - mae: 0.7771 - val_loss: 0.5937 - val_mae: 0.2893\n",
      "Epoch 26/40\n",
      "589/589 [==============================] - 1s 2ms/step - loss: 317.1970 - mae: 1.9260 - val_loss: 7668.8872 - val_mae: 14.3637\n",
      "Epoch 27/40\n",
      "589/589 [==============================] - 1s 2ms/step - loss: 459.6303 - mae: 2.2276 - val_loss: 1.1364 - val_mae: 0.3452\n",
      "Epoch 28/40\n",
      "589/589 [==============================] - 1s 2ms/step - loss: 4.8115 - mae: 0.3340 - val_loss: 0.7204 - val_mae: 0.1721\n",
      "Epoch 29/40\n",
      "589/589 [==============================] - 1s 2ms/step - loss: 1.3810 - mae: 0.2054 - val_loss: 0.0545 - val_mae: 0.1088\n",
      "Epoch 30/40\n",
      "589/589 [==============================] - 1s 2ms/step - loss: 0.7889 - mae: 0.1821 - val_loss: 0.0273 - val_mae: 0.1154\n",
      "Epoch 31/40\n",
      "589/589 [==============================] - 1s 2ms/step - loss: 1.3721 - mae: 0.1507 - val_loss: 5.8210 - val_mae: 0.4302\n",
      "Epoch 32/40\n",
      "589/589 [==============================] - 1s 2ms/step - loss: 1.3550 - mae: 0.1789 - val_loss: 5.9082 - val_mae: 0.4587\n",
      "Epoch 33/40\n",
      "589/589 [==============================] - 1s 2ms/step - loss: 120.6105 - mae: 0.5097 - val_loss: 0.4225 - val_mae: 0.1584\n",
      "Epoch 34/40\n",
      "589/589 [==============================] - 1s 2ms/step - loss: 0.0403 - mae: 0.1046 - val_loss: 0.0156 - val_mae: 0.0905\n",
      "Epoch 35/40\n",
      "589/589 [==============================] - 1s 2ms/step - loss: 0.0166 - mae: 0.0916 - val_loss: 0.0152 - val_mae: 0.0893\n",
      "Epoch 36/40\n",
      "589/589 [==============================] - 1s 2ms/step - loss: 0.0167 - mae: 0.0913 - val_loss: 0.0155 - val_mae: 0.0929\n",
      "Epoch 37/40\n",
      "589/589 [==============================] - 1s 2ms/step - loss: 0.0169 - mae: 0.0915 - val_loss: 0.0180 - val_mae: 0.1066\n",
      "Epoch 38/40\n",
      "589/589 [==============================] - 1s 2ms/step - loss: 0.0172 - mae: 0.0922 - val_loss: 0.0150 - val_mae: 0.0863\n",
      "Epoch 39/40\n",
      "589/589 [==============================] - 1s 2ms/step - loss: 0.0182 - mae: 0.0935 - val_loss: 0.0212 - val_mae: 0.1129\n",
      "Epoch 40/40\n",
      "589/589 [==============================] - 1s 2ms/step - loss: 0.0182 - mae: 0.0930 - val_loss: 0.0308 - val_mae: 0.1352\n"
     ]
    }
   ],
   "source": [
    "history = model.fit(X_train, Y_train, epochs = 40, validation_split = 0.2, verbose=1)"
   ]
  },
  {
   "cell_type": "code",
   "execution_count": 14,
   "id": "814671ec-3702-4f3e-922a-f75b0c8f0cc8",
   "metadata": {},
   "outputs": [
    {
     "name": "stdout",
     "output_type": "stream",
     "text": [
      "316/316 [==============================] - 1s 2ms/step - loss: 0.0683 - mae: 0.1439\n"
     ]
    },
    {
     "data": {
      "text/plain": [
       "[0.06830810755491257, 0.14386408030986786]"
      ]
     },
     "execution_count": 14,
     "metadata": {},
     "output_type": "execute_result"
    }
   ],
   "source": [
    "model.evaluate(X_test, Y_test)"
   ]
  },
  {
   "cell_type": "code",
   "execution_count": 15,
   "id": "b6cffe4e-9330-46b9-8de0-4e912bb12c44",
   "metadata": {},
   "outputs": [
    {
     "name": "stdout",
     "output_type": "stream",
     "text": [
      "316/316 [==============================] - 1s 1ms/step\n"
     ]
    },
    {
     "data": {
      "text/plain": [
       "array([[0.19681439],\n",
       "       [0.21002087],\n",
       "       [0.48576126],\n",
       "       ...,\n",
       "       [0.47483978],\n",
       "       [0.39933452],\n",
       "       [0.4245163 ]], dtype=float32)"
      ]
     },
     "execution_count": 15,
     "metadata": {},
     "output_type": "execute_result"
    }
   ],
   "source": [
    "Y_pred = model.predict(X_test)\n",
    "Y_pred"
   ]
  },
  {
   "cell_type": "code",
   "execution_count": 16,
   "id": "3547712d-35ff-4229-b468-3638e30652fb",
   "metadata": {},
   "outputs": [
    {
     "data": {
      "text/plain": [
       "-2.0438994225180953"
      ]
     },
     "execution_count": 16,
     "metadata": {},
     "output_type": "execute_result"
    }
   ],
   "source": [
    "r2_score(Y_test, Y_pred)"
   ]
  },
  {
   "cell_type": "code",
   "execution_count": 17,
   "id": "ee01be15-58e6-4732-950d-9460ba3ba3bc",
   "metadata": {},
   "outputs": [
    {
     "data": {
      "image/png": "[encoded data removed]",
      "text/plain": [
       "<Figure size 640x480 with 1 Axes>"
      ]
     },
     "metadata": {},
     "output_type": "display_data"
    },
    {
     "data": {
      "image/png": "[encoded data removed]",
      "text/plain": [
       "<Figure size 640x480 with 1 Axes>"
      ]
     },
     "metadata": {},
     "output_type": "display_data"
    }
   ],
   "source": [
    "plt.plot(history.history['mae'])\n",
    "plt.plot(history.history['val_mae'])\n",
    "plt.xlabel('epochs')\n",
    "plt.ylabel('mae')\n",
    "plt.legend(['training_mae', 'validation_mae'])\n",
    "plt.show()\n",
    "plt.plot(history.history['loss'])\n",
    "plt.plot(history.history['val_loss'])\n",
    "plt.xlabel('epochs')\n",
    "plt.ylabel('loss')\n",
    "plt.legend(['training_loss', 'validation_loss'])\n",
    "plt.show()"
   ]
  },
  {
   "cell_type": "markdown",
   "id": "54d2cabf-da75-4c68-8e65-f633bd7071a9",
   "metadata": {},
   "source": [
    "## KINERJA MODEL TETAP BURUK, MESKIPUN SUDAH DI TAMBAH ITERASI EPOCH NYA, DAN COBA DI NORMALISASI TARGETNYA"
   ]
  }
 ],
 "metadata": {
  "kernelspec": {
   "display_name": "Yahya_073",
   "language": "python",
   "name": "yahya_073"
  },
  "language_info": {
   "codemirror_mode": {
    "name": "ipython",
    "version": 3
   },
   "file_extension": ".py",
   "mimetype": "text/x-python",
   "name": "python",
   "nbconvert_exporter": "python",
   "pygments_lexer": "ipython3",
   "version": "3.10.7"
  }
 },
 "nbformat": 4,
 "nbformat_minor": 5
}
